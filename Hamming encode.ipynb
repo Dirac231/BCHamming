{
 "cells": [
  {
   "cell_type": "code",
   "execution_count": 8,
   "id": "12880fa0-491f-4020-a02b-434cd00547d2",
   "metadata": {},
   "outputs": [],
   "source": [
    "import numpy as np \n",
    "\n",
    "import math\n",
    "from warnings import warn\n",
    "\n",
    "from Hamming import *\n",
    "\n",
    "from qiskit import QuantumRegister, ClassicalRegister, QuantumCircuit, transpile\n",
    "from qiskit.circuit import Qubit\n",
    "from qiskit.providers.aer import QasmSimulator\n",
    "from qiskit.visualization import plot_histogram"
   ]
  },
  {
   "cell_type": "code",
   "execution_count": 15,
   "id": "d40885f4-e659-42ab-9891-1af5c9b03e84",
   "metadata": {},
   "outputs": [
    {
     "output_type": "execute_result",
     "data": {
      "text/plain": [
       "      ┌─────────────────────┐\n",
       " q_0: ┤0                    ├\n",
       "      │                     │\n",
       " q_1: ┤1                    ├\n",
       "      │                     │\n",
       " q_2: ┤2                    ├\n",
       "      │                     │\n",
       " q_3: ┤3                    ├\n",
       "      │                     │\n",
       " q_4: ┤4                    ├\n",
       "      │                     │\n",
       " q_5: ┤5                    ├\n",
       "      │                     │\n",
       " q_6: ┤6                    ├\n",
       "      │                     │\n",
       " q_7: ┤7                    ├\n",
       "      │   bit phase encoder │\n",
       " q_8: ┤8                    ├\n",
       "      │                     │\n",
       " q_9: ┤9                    ├\n",
       "      │                     │\n",
       "q_10: ┤10                   ├\n",
       "      │                     │\n",
       "q_11: ┤11                   ├\n",
       "      │                     │\n",
       "q_12: ┤12                   ├\n",
       "      │                     │\n",
       "q_13: ┤13                   ├\n",
       "      │                     │\n",
       "q_14: ┤14                   ├\n",
       "      │                     │\n",
       "q_15: ┤15                   ├\n",
       "      └─────────────────────┘"
      ],
      "text/html": "<pre style=\"word-wrap: normal;white-space: pre;background: #fff0;line-height: 1.1;font-family: &quot;Courier New&quot;,Courier,monospace\">      ┌─────────────────────┐\n q_0: ┤0                    ├\n      │                     │\n q_1: ┤1                    ├\n      │                     │\n q_2: ┤2                    ├\n      │                     │\n q_3: ┤3                    ├\n      │                     │\n q_4: ┤4                    ├\n      │                     │\n q_5: ┤5                    ├\n      │                     │\n q_6: ┤6                    ├\n      │                     │\n q_7: ┤7                    ├\n      │   bit phase encoder │\n q_8: ┤8                    ├\n      │                     │\n q_9: ┤9                    ├\n      │                     │\nq_10: ┤10                   ├\n      │                     │\nq_11: ┤11                   ├\n      │                     │\nq_12: ┤12                   ├\n      │                     │\nq_13: ┤13                   ├\n      │                     │\nq_14: ┤14                   ├\n      │                     │\nq_15: ┤15                   ├\n      └─────────────────────┘</pre>"
     },
     "metadata": {},
     "execution_count": 15
    }
   ],
   "source": [
    "def bit_phase_encoder(N, name=\"bit phase encoder\"):\n",
    "    prova = QuantumCircuit(2**N)\n",
    "    prova.append(hamming_encode(N), list(range(2**N)))\n",
    "    prova.h(list(range(2**N)))\n",
    "\n",
    "    prova.append(hamming_encode(N), list(range(2**N)))\n",
    "    return prova.to_gate(label=name)\n",
    "\n",
    "N = 4\n",
    "prova = QuantumCircuit(2**N)\n",
    "prova.append(bit_phase_encoder(N), list(range(2**N)))\n",
    "prova.draw()"
   ]
  }
 ],
 "metadata": {
  "kernelspec": {
   "name": "python388jvsc74a57bd0826ac774da20863171be87f505c983a23ca5099031a67b4f2c0e4fe6baa8958e",
   "display_name": "Python 3.8.8 64-bit ('base': conda)"
  },
  "language_info": {
   "codemirror_mode": {
    "name": "ipython",
    "version": 3
   },
   "file_extension": ".py",
   "mimetype": "text/x-python",
   "name": "python",
   "nbconvert_exporter": "python",
   "pygments_lexer": "ipython3",
   "version": "3.8.8"
  }
 },
 "nbformat": 4,
 "nbformat_minor": 5
}