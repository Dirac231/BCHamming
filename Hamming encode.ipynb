{
 "cells": [
  {
   "cell_type": "code",
   "execution_count": 1,
   "id": "12880fa0-491f-4020-a02b-434cd00547d2",
   "metadata": {},
   "outputs": [],
   "source": [
    "import numpy as np \n",
    "\n",
    "import math\n",
    "from warnings import warn\n",
    "\n",
    "from Hamming import *\n",
    "\n",
    "from qiskit import QuantumRegister, ClassicalRegister, QuantumCircuit, transpile\n",
    "from qiskit.circuit import Qubit\n",
    "from qiskit.providers.aer import QasmSimulator\n",
    "from qiskit.visualization import plot_histogram"
   ]
  },
  {
   "cell_type": "code",
   "execution_count": 2,
   "id": "d40885f4-e659-42ab-9891-1af5c9b03e84",
   "metadata": {},
   "outputs": [
    {
     "output_type": "execute_result",
     "data": {
      "text/plain": [
       "      ┌─────────────────┐\n",
       " q_0: ┤0                ├\n",
       "      │                 │\n",
       " q_1: ┤1                ├\n",
       "      │                 │\n",
       " q_2: ┤2                ├\n",
       "      │                 │\n",
       " q_3: ┤3                ├\n",
       "      │  Hamming Encode │\n",
       " q_4: ┤4                ├\n",
       "      │                 │\n",
       " q_5: ┤5                ├\n",
       "      │                 │\n",
       " q_6: ┤6                ├\n",
       "      │                 │\n",
       " q_7: ┤7                ├\n",
       "      └─────────────────┘\n",
       " q_8: ───────────────────\n",
       "                         \n",
       " q_9: ───────────────────\n",
       "                         \n",
       "q_10: ───────────────────\n",
       "                         \n",
       "q_11: ───────────────────\n",
       "                         \n",
       "q_12: ───────────────────\n",
       "                         \n",
       "q_13: ───────────────────\n",
       "                         \n",
       "q_14: ───────────────────\n",
       "                         \n",
       "q_15: ───────────────────\n",
       "                         "
      ],
      "text/html": "<pre style=\"word-wrap: normal;white-space: pre;background: #fff0;line-height: 1.1;font-family: &quot;Courier New&quot;,Courier,monospace\">      ┌─────────────────┐\n q_0: ┤0                ├\n      │                 │\n q_1: ┤1                ├\n      │                 │\n q_2: ┤2                ├\n      │                 │\n q_3: ┤3                ├\n      │  Hamming Encode │\n q_4: ┤4                ├\n      │                 │\n q_5: ┤5                ├\n      │                 │\n q_6: ┤6                ├\n      │                 │\n q_7: ┤7                ├\n      └─────────────────┘\n q_8: ───────────────────\n                         \n q_9: ───────────────────\n                         \nq_10: ───────────────────\n                         \nq_11: ───────────────────\n                         \nq_12: ───────────────────\n                         \nq_13: ───────────────────\n                         \nq_14: ───────────────────\n                         \nq_15: ───────────────────\n                         </pre>"
     },
     "metadata": {},
     "execution_count": 2
    }
   ],
   "source": [
    "prova = QuantumCircuit(16)\n",
    "prova.append(hamming_encode(3), list(range(0,8)))\n",
    "prova.draw()"
   ]
  }
 ],
 "metadata": {
  "kernelspec": {
   "name": "python388jvsc74a57bd059efbf1012a0abedd22391f4cee26cedf1d86c7aaab3d3c9b675cae467e671ce",
   "display_name": "Python 3.8.8 64-bit ('base': conda)"
  },
  "language_info": {
   "codemirror_mode": {
    "name": "ipython",
    "version": 3
   },
   "file_extension": ".py",
   "mimetype": "text/x-python",
   "name": "python",
   "nbconvert_exporter": "python",
   "pygments_lexer": "ipython3",
   "version": "3.8.8"
  }
 },
 "nbformat": 4,
 "nbformat_minor": 5
}