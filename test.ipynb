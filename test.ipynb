{
 "cells": [
  {
   "cell_type": "code",
   "execution_count": 1,
   "metadata": {},
   "outputs": [],
   "source": [
    "import numpy as np \n",
    "from qiskit import QuantumCircuit, transpile\n",
    "from qiskit.providers.aer import QasmSimulator\n",
    "from qiskit.visualization import plot_histogram"
   ]
  },
  {
   "cell_type": "code",
   "execution_count": 21,
   "metadata": {},
   "outputs": [],
   "source": [
    "def super_cnot(nqubits):\n",
    "    circuit = QuantumCircuit(nqubits)\n",
    "    [circuit.cx(i,i+1) for i in range(nqubits-1)]\n",
    "    [circuit.cx(nqubits-i-3,nqubits-i-2) for i in range(nqubits-2)]\n",
    "    return circuit.to_gate()"
   ]
  },
  {
   "cell_type": "code",
   "execution_count": 19,
   "metadata": {},
   "outputs": [
    {
     "data": {
      "text/html": "<pre style=\"word-wrap: normal;white-space: pre;background: #fff0;line-height: 1.1;font-family: &quot;Courier New&quot;,Courier,monospace\">                              \nq_0: ──■───────────────────■──\n     ┌─┴─┐               ┌─┴─┐\nq_1: ┤ X ├──■─────────■──┤ X ├\n     └───┘┌─┴─┐     ┌─┴─┐└───┘\nq_2: ─────┤ X ├──■──┤ X ├─────\n          └───┘┌─┴─┐└───┘     \nq_3: ──────────┤ X ├──────────\n               └───┘          </pre>",
      "text/plain": "                              \nq_0: ──■───────────────────■──\n     ┌─┴─┐               ┌─┴─┐\nq_1: ┤ X ├──■─────────■──┤ X ├\n     └───┘┌─┴─┐     ┌─┴─┐└───┘\nq_2: ─────┤ X ├──■──┤ X ├─────\n          └───┘┌─┴─┐└───┘     \nq_3: ──────────┤ X ├──────────\n               └───┘          "
     },
     "execution_count": 19,
     "metadata": {},
     "output_type": "execute_result"
    }
   ],
   "source": [
    "circuit.draw()"
   ]
  },
  {
   "cell_type": "code",
   "execution_count": 12,
   "metadata": {},
   "outputs": [
    {
     "data": {
      "text/html": "<pre style=\"word-wrap: normal;white-space: pre;background: #fff0;line-height: 1.1;font-family: &quot;Courier New&quot;,Courier,monospace\">          \nq_0: ──■──\n     ┌─┴─┐\nq_1: ┤ X ├\n     └───┘</pre>",
      "text/plain": "          \nq_0: ──■──\n     ┌─┴─┐\nq_1: ┤ X ├\n     └───┘"
     },
     "execution_count": 12,
     "metadata": {},
     "output_type": "execute_result"
    }
   ],
   "source": [
    "c = QuantumCircuit(2)\n",
    "c.cx(0,1)\n",
    "c.draw()"
   ]
  },
  {
   "cell_type": "code",
   "execution_count": null,
   "metadata": {},
   "outputs": [],
   "source": [
    "result=job.result()"
   ]
  },
  {
   "cell_type": "code",
   "execution_count": null,
   "metadata": {},
   "outputs": [],
   "source": [
    "counts = result.get_counts(circuit)\n",
    "print(\"\\nTotal count for 00 and 11 are:\",counts)"
   ]
  },
  {
   "cell_type": "code",
   "execution_count": null,
   "metadata": {},
   "outputs": [],
   "source": []
  }
 ],
 "metadata": {
  "interpreter": {
   "hash": "dca0ade3e726a953b501b15e8e990130d2b7799f14cfd9f4271676035ebe5511"
  },
  "kernelspec": {
   "display_name": "Python 3.7.4 64-bit ('base': conda)",
   "name": "python3"
  },
  "language_info": {
   "codemirror_mode": {
    "name": "ipython",
    "version": 3
   },
   "file_extension": ".py",
   "mimetype": "text/x-python",
   "name": "python",
   "nbconvert_exporter": "python",
   "pygments_lexer": "ipython3",
   "version": "3.7.4"
  },
  "orig_nbformat": 2
 },
 "nbformat": 4,
 "nbformat_minor": 2
}