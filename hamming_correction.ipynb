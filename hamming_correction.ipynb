{
 "cells": [
  {
   "cell_type": "code",
   "execution_count": 2,
   "metadata": {},
   "outputs": [],
   "source": [
    "import numpy as np \n",
    "from qiskit import QuantumRegister, ClassicalRegister,QuantumCircuit, transpile, Aer\n",
    "from qiskit.providers.aer import QasmSimulator\n",
    "%matplotlib inline"
   ]
  },
  {
   "cell_type": "code",
   "execution_count": 3,
   "metadata": {},
   "outputs": [],
   "source": [
    "def num_to_binary(n,N):\n",
    "    # n is the number to be represented in binary\n",
    "    # N is the number of digits of the rapresentation\n",
    "    #es: num_to_binary(5,4) = 0101\n",
    "    Nbits=2**N\n",
    "    if n>=Nbits: return 0\n",
    "    return bin(n+2*Nbits)[4:]\n",
    "\n",
    "\n",
    "def HammingCircuit(N,ClassicalRegisters=None,ancillas=1):\n",
    "    \"\"\"\n",
    "    -Returns a circuit with just the qbits labeled as the parity and signal\n",
    "    -it gives you a circuit with 2^N qbits of (message + redundancy)\n",
    "    -it can have classical registers if you want set ClassicalRegisters=True, if given a int \"n\" it will have \n",
    "    n classical registers\n",
    "    by default it will have N ancillas, if specified it will have a numer N*ancillas\"\"\"\n",
    "    registers=[]\n",
    "    for i in range(2**N):\n",
    "        prefix='s' #s stands for signal\n",
    "        if i==0 or np.log2(i)==int(np.log2(i)): prefix='p' #c stands for parity\n",
    "        registers.append(QuantumRegister(1,prefix+num_to_binary(i, N)))\n",
    "    if ClassicalRegisters!=None: \n",
    "        if ClassicalRegisters==True: registers.append(ClassicalRegister(2**N+N*ancillas))\n",
    "        else: registers.append(ClassicalRegister(ClassicalRegisters))\n",
    "    circuit=QuantumCircuit(*registers,QuantumRegister(N*ancillas,'anc')) #circuit already with ancillas\n",
    "    #circit=QuantumCircuit(*registers)\n",
    "    circuit.N=N\n",
    "    return circuit\n",
    "\n",
    "\n",
    "def xor(N):\n",
    "    #This is the gate that calculates the xor of all the position with ones, this gives the position of the faulty qbit\n",
    "    circ=HammingCircuit(N)\n",
    "    nqubits=2**N\n",
    "    for i in range(1,nqubits):\n",
    "        for j in range(0,N):\n",
    "            if i & 2**j == 2**j: circ.cx(i,nqubits+j)\n",
    "    return circ.to_gate(label='Initialize')\n",
    "\n",
    "def correct(N):\n",
    "    #This is the gate that corrects the faulty qbit\n",
    "    circ=HammingCircuit(N)\n",
    "    nqubits=2**N\n",
    "    count=np.zeros(N)\n",
    "    for i in range(1,nqubits):\n",
    "        count=count+1\n",
    "        for j in range(N):\n",
    "            count[j]=count[j]%(2**j)\n",
    "            if count[j]==0 and i!=1: circ.x(nqubits+j)\n",
    "            if i==1 and j!=0: circ.x(nqubits+j)\n",
    "        circ.mct([*range(nqubits,nqubits+N)],i)\n",
    "    return circ.to_gate(label='Correction')\n",
    "\n",
    "def HammingGate0(N):\n",
    "    circ=HammingCircuit(N)\n",
    "    circ.append(xor(N),[*range(2**N+N)])\n",
    "    circ.append(correct(N),[*range(2**N+N)])\n",
    "    return circ.to_gate(label='Hamming0')"
   ]
  },
  {
   "cell_type": "code",
   "execution_count": 4,
   "metadata": {},
   "outputs": [],
   "source": [
    "simulator = QasmSimulator()"
   ]
  },
  {
   "cell_type": "markdown",
   "metadata": {},
   "source": [
    "Initializing Ancillas"
   ]
  },
  {
   "cell_type": "code",
   "execution_count": 5,
   "metadata": {},
   "outputs": [
    {
     "output_type": "execute_result",
     "data": {
      "text/plain": [
       "        ┌────────────┐┌─┐                              \n",
       "p000_0: ┤0           ├┤M├──────────────────────────────\n",
       "        │            │└╥┘┌─┐                           \n",
       "p001_0: ┤1           ├─╫─┤M├───────────────────────────\n",
       "        │            │ ║ └╥┘┌─┐                        \n",
       "p010_0: ┤2           ├─╫──╫─┤M├────────────────────────\n",
       "        │            │ ║  ║ └╥┘┌─┐                     \n",
       "s011_0: ┤3           ├─╫──╫──╫─┤M├─────────────────────\n",
       "        │            │ ║  ║  ║ └╥┘┌─┐                  \n",
       "p100_0: ┤4           ├─╫──╫──╫──╫─┤M├──────────────────\n",
       "        │            │ ║  ║  ║  ║ └╥┘┌─┐               \n",
       "s101_0: ┤5  Hamming0 ├─╫──╫──╫──╫──╫─┤M├───────────────\n",
       "        │            │ ║  ║  ║  ║  ║ └╥┘┌─┐            \n",
       "s110_0: ┤6           ├─╫──╫──╫──╫──╫──╫─┤M├────────────\n",
       "        │            │ ║  ║  ║  ║  ║  ║ └╥┘┌─┐         \n",
       "s111_0: ┤7           ├─╫──╫──╫──╫──╫──╫──╫─┤M├─────────\n",
       "        │            │ ║  ║  ║  ║  ║  ║  ║ └╥┘┌─┐      \n",
       " anc_0: ┤8           ├─╫──╫──╫──╫──╫──╫──╫──╫─┤M├──────\n",
       "        │            │ ║  ║  ║  ║  ║  ║  ║  ║ └╥┘┌─┐   \n",
       " anc_1: ┤9           ├─╫──╫──╫──╫──╫──╫──╫──╫──╫─┤M├───\n",
       "        │            │ ║  ║  ║  ║  ║  ║  ║  ║  ║ └╥┘┌─┐\n",
       " anc_2: ┤10          ├─╫──╫──╫──╫──╫──╫──╫──╫──╫──╫─┤M├\n",
       "        └────────────┘ ║  ║  ║  ║  ║  ║  ║  ║  ║  ║ └╥┘\n",
       " c0: 11/═══════════════╩══╩══╩══╩══╩══╩══╩══╩══╩══╩══╩═\n",
       "                       0  1  2  3  4  5  6  7  8  9  10"
      ],
      "text/html": "<pre style=\"word-wrap: normal;white-space: pre;background: #fff0;line-height: 1.1;font-family: &quot;Courier New&quot;,Courier,monospace\">        ┌────────────┐┌─┐                              \np000_0: ┤0           ├┤M├──────────────────────────────\n        │            │└╥┘┌─┐                           \np001_0: ┤1           ├─╫─┤M├───────────────────────────\n        │            │ ║ └╥┘┌─┐                        \np010_0: ┤2           ├─╫──╫─┤M├────────────────────────\n        │            │ ║  ║ └╥┘┌─┐                     \ns011_0: ┤3           ├─╫──╫──╫─┤M├─────────────────────\n        │            │ ║  ║  ║ └╥┘┌─┐                  \np100_0: ┤4           ├─╫──╫──╫──╫─┤M├──────────────────\n        │            │ ║  ║  ║  ║ └╥┘┌─┐               \ns101_0: ┤5  Hamming0 ├─╫──╫──╫──╫──╫─┤M├───────────────\n        │            │ ║  ║  ║  ║  ║ └╥┘┌─┐            \ns110_0: ┤6           ├─╫──╫──╫──╫──╫──╫─┤M├────────────\n        │            │ ║  ║  ║  ║  ║  ║ └╥┘┌─┐         \ns111_0: ┤7           ├─╫──╫──╫──╫──╫──╫──╫─┤M├─────────\n        │            │ ║  ║  ║  ║  ║  ║  ║ └╥┘┌─┐      \n anc_0: ┤8           ├─╫──╫──╫──╫──╫──╫──╫──╫─┤M├──────\n        │            │ ║  ║  ║  ║  ║  ║  ║  ║ └╥┘┌─┐   \n anc_1: ┤9           ├─╫──╫──╫──╫──╫──╫──╫──╫──╫─┤M├───\n        │            │ ║  ║  ║  ║  ║  ║  ║  ║  ║ └╥┘┌─┐\n anc_2: ┤10          ├─╫──╫──╫──╫──╫──╫──╫──╫──╫──╫─┤M├\n        └────────────┘ ║  ║  ║  ║  ║  ║  ║  ║  ║  ║ └╥┘\n c0: 11/═══════════════╩══╩══╩══╩══╩══╩══╩══╩══╩══╩══╩═\n                       0  1  2  3  4  5  6  7  8  9  10</pre>"
     },
     "metadata": {},
     "execution_count": 5
    }
   ],
   "source": [
    "N=3\n",
    "circuit=HammingCircuit(N,True)\n",
    "asd=HammingGate0(N)\n",
    "circuit.append(asd,[*range(2**N+N)])\n",
    "circuit.measure([*range(2**N+N)],[*range(2**N+N)])\n",
    "circuit.draw()"
   ]
  },
  {
   "cell_type": "code",
   "execution_count": 57,
   "metadata": {},
   "outputs": [
    {
     "output_type": "stream",
     "name": "stdout",
     "text": [
      "11100000\n",
      "1110 11101000\n"
     ]
    }
   ],
   "source": [
    "def HammingRedundant(n):\n",
    "    bits=int(np.log2(n))+1\n",
    "    parity=int(np.log2(bits))+2\n",
    "    total=2**(parity-1)\n",
    "    N,j=0,0\n",
    "    for i in range(total):\n",
    "        if i!=0 and int(np.log2(i))!=np.log2(i):\n",
    "            N=N+(n&(2**j)==2**j)*(2**i)\n",
    "            j=j+1\n",
    "    print(num_to_binary(N,total))\n",
    "    for i in range(parity):\n",
    "        i=2**i\n",
    "        par=0\n",
    "        for j in range(total):\n",
    "            temp=N\n",
    "            N=N^((2**i)*((j&i==i)&((N&2**j)!=0)))\n",
    "    return N\n",
    "N=14\n",
    "Ham=HammingRedundant(N)\n",
    "print(num_to_binary(N,4),num_to_binary(Ham,8))"
   ]
  },
  {
   "cell_type": "code",
   "execution_count": 11,
   "metadata": {},
   "outputs": [
    {
     "output_type": "stream",
     "name": "stdout",
     "text": [
      "asfafg {'00000000000': 1000}\n"
     ]
    }
   ],
   "source": [
    "compiled_circuit = transpile(circuit, simulator)\n",
    "job = simulator.run(compiled_circuit, shots=1000)\n",
    "result = job.result()\n",
    "counts = result.get_counts(circuit)\n",
    "print('asfafg',counts)"
   ]
  },
  {
   "cell_type": "code",
   "execution_count": 33,
   "metadata": {},
   "outputs": [
    {
     "output_type": "execute_result",
     "data": {
      "text/plain": [
       "128"
      ]
     },
     "metadata": {},
     "execution_count": 33
    }
   ],
   "source": [
    "195&2**7"
   ]
  },
  {
   "cell_type": "code",
   "execution_count": null,
   "metadata": {},
   "outputs": [],
   "source": []
  }
 ],
 "metadata": {
  "interpreter": {
   "hash": "dca0ade3e726a953b501b15e8e990130d2b7799f14cfd9f4271676035ebe5511"
  },
  "kernelspec": {
   "name": "python374jvsc74a57bd0dca0ade3e726a953b501b15e8e990130d2b7799f14cfd9f4271676035ebe5511",
   "display_name": "Python 3.7.4 64-bit ('base': conda)"
  },
  "language_info": {
   "codemirror_mode": {
    "name": "ipython",
    "version": 3
   },
   "file_extension": ".py",
   "mimetype": "text/x-python",
   "name": "python",
   "nbconvert_exporter": "python",
   "pygments_lexer": "ipython3",
   "version": "3.7.4"
  },
  "orig_nbformat": 2
 },
 "nbformat": 4,
 "nbformat_minor": 2
}