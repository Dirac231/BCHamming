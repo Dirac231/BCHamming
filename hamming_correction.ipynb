{
 "cells": [
  {
   "cell_type": "code",
   "execution_count": 1,
   "metadata": {},
   "outputs": [],
   "source": [
    "import numpy as np \n",
    "from qiskit import QuantumRegister, ClassicalRegister,QuantumCircuit, transpile, Aer\n",
    "from qiskit.providers.aer import QasmSimulator\n",
    "from Hamming import *\n",
    "%matplotlib inline"
   ]
  },
  {
   "cell_type": "code",
   "execution_count": 2,
   "metadata": {},
   "outputs": [],
   "source": [
    "def num_to_binary(n,N):\n",
    "    # n is the number to be represented in binary\n",
    "    # N is the number of digits of the rapresentation\n",
    "    #es: num_to_binary(5,4) = 0101\n",
    "    Nbits=2**N\n",
    "    if n>=Nbits: return 0\n",
    "    return bin(n+2*Nbits)[4:]\n",
    "\n",
    "\n",
    "def HammingCircuit(N,ClassicalRegisters=None,ancillas=1):\n",
    "    \"\"\"\n",
    "    -Returns a circuit with just the qbits labeled as the parity and signal\n",
    "    -it gives you a circuit with 2^N qbits of (message + redundancy)\n",
    "    -it can have classical registers if you want set ClassicalRegisters=True, if given a int \"n\" it will have \n",
    "    n classical registers\n",
    "    by default it will have N ancillas, if specified it will have a numer N*ancillas\"\"\"\n",
    "    registers=[]\n",
    "    for i in range(2**N):\n",
    "        prefix='s' #s stands for signal\n",
    "        if i==0 or np.log2(i)==int(np.log2(i)): prefix='p' #c stands for parity\n",
    "        registers.append(QuantumRegister(1,prefix+num_to_binary(i, N)))\n",
    "    if ClassicalRegisters!=None: \n",
    "        if ClassicalRegisters==True: registers.append(ClassicalRegister(2**N+N*ancillas))\n",
    "        else: registers.append(ClassicalRegister(ClassicalRegisters))\n",
    "    circuit=QuantumCircuit(*registers,QuantumRegister(N*ancillas,'anc')) #circuit already with ancillas\n",
    "    #circit=QuantumCircuit(*registers)\n",
    "    circuit.N=N\n",
    "    return circuit\n",
    "\n",
    "\n",
    "def xor(N):\n",
    "    #This is the gate that calculates the xor of all the position with ones, this gives the position of the faulty qbit\n",
    "    circ=HammingCircuit(N)\n",
    "    nqubits=2**N\n",
    "    for i in range(1,nqubits):\n",
    "        for j in range(0,N):\n",
    "            if i & 2**j == 2**j: circ.cx(i,nqubits+j)\n",
    "    return circ.to_gate(label='Initialize')\n",
    "\n",
    "def correct(N):\n",
    "    #This is the gate that corrects the faulty qbit\n",
    "    circ=HammingCircuit(N)\n",
    "    nqubits=2**N\n",
    "    count=np.zeros(N)\n",
    "    for i in range(1,nqubits):\n",
    "        count=count+1\n",
    "        for j in range(N):\n",
    "            count[j]=count[j]%(2**j)\n",
    "            if count[j]==0 and i!=1: circ.x(nqubits+j)\n",
    "            if i==1 and j!=0: circ.x(nqubits+j)\n",
    "        circ.mct([*range(nqubits,nqubits+N)],i)\n",
    "    return circ.to_gate(label='Correction')\n",
    "\n",
    "def HammingGate0(N):\n",
    "    #Hamming Gate resistant to bit-fips\n",
    "    circ=HammingCircuit(N)\n",
    "    circ.append(xor(N),[*range(2**N+N)])\n",
    "    circ.append(correct(N),[*range(2**N+N)])\n",
    "    return circ.to_gate(label='Hamming0')\n",
    "\n",
    "def HammingRedundant(n):\n",
    "    #Takes a integer \"n\" and makes the binary representation of that integer hamming redundant\n",
    "    bits=int(np.log2(n))+1\n",
    "    parity=int(np.log2(bits))+2\n",
    "    total=2**(parity)\n",
    "    N,j=0,0\n",
    "    #shift the digits in the correct positions for the hamming code\n",
    "    for i in range(total):\n",
    "        if i!=0 and int(np.log2(i))!=np.log2(i):\n",
    "            N=N+(n&(2**j)==2**j)*(2**i)\n",
    "            j=j+1\n",
    "    #puts the parity bit in place except for the global parity bit\n",
    "    for i in range(parity):\n",
    "        i=2**i\n",
    "        for j in range(i,total):\n",
    "            N=N^((2**i)*((j&i==i)&((N&2**j)!=0)))\n",
    "    #Global parity bit (yet to be tested)\n",
    "    #for i in range(1,total):N=N^((N&2**i)==1)\n",
    "    return N\n",
    "\n",
    "def classic_input(n,N=None):\n",
    "    #n is the number in integer format, N is the size of the gate\n",
    "    #doesn't work and i \n",
    "    if N==None: N=int(np.log2(n))+1\n",
    "    if (n>=2**N): raise 'ma sei trimò'\n",
    "    registers=QuantumRegister(N)\n",
    "    circuit=QuantumCircuit(registers)\n",
    "    for i in range(N):\n",
    "        j=2**i\n",
    "        if (n&j)==j: circuit.x(i)\n",
    "    return circuit.to_gate(num_to_binary(n,N))"
   ]
  },
  {
   "cell_type": "code",
   "execution_count": 3,
   "metadata": {},
   "outputs": [],
   "source": [
    "N=3\n",
    "\n",
    "def HammingCorrection(N):\n",
    "    circuit=HammingCircuit(N,ancillas=2)\n",
    "    Ham_0=HammingGate0(N)\n",
    "    #circuit.h([*range(2**N)])\n",
    "    circuit.append(Ham_0,[*range(2**N+N)])\n",
    "    circuit.h([*range(2**N)])\n",
    "    circuit.append(Ham_0,[*range(2**N),*range(2**N+N,2**N+2*N)])\n",
    "    return circuit.to_gate(label='Hamming Correction')"
   ]
  },
  {
   "cell_type": "code",
   "execution_count": 4,
   "metadata": {},
   "outputs": [
    {
     "output_type": "error",
     "ename": "CircuitError",
     "evalue": "'The amount of qubit arguments 8 does not match the instruction expectation (11).'",
     "traceback": [
      "\u001b[0;31m---------------------------------------------------------------------------\u001b[0m",
      "\u001b[0;31mCircuitError\u001b[0m                              Traceback (most recent call last)",
      "\u001b[0;32m<ipython-input-4-8ee4a9740230>\u001b[0m in \u001b[0;36m<module>\u001b[0;34m\u001b[0m\n\u001b[1;32m      1\u001b[0m \u001b[0mcircuit\u001b[0m\u001b[0;34m=\u001b[0m\u001b[0mHammingCircuit\u001b[0m\u001b[0;34m(\u001b[0m\u001b[0mN\u001b[0m\u001b[0;34m,\u001b[0m\u001b[0mancillas\u001b[0m\u001b[0;34m=\u001b[0m\u001b[0;36m2\u001b[0m\u001b[0;34m)\u001b[0m\u001b[0;34m\u001b[0m\u001b[0;34m\u001b[0m\u001b[0m\n\u001b[1;32m      2\u001b[0m \u001b[0menc\u001b[0m\u001b[0;34m=\u001b[0m\u001b[0mhamming_encode\u001b[0m\u001b[0;34m(\u001b[0m\u001b[0mN\u001b[0m\u001b[0;34m)\u001b[0m\u001b[0;34m\u001b[0m\u001b[0;34m\u001b[0m\u001b[0m\n\u001b[0;32m----> 3\u001b[0;31m \u001b[0mcircuit\u001b[0m\u001b[0;34m.\u001b[0m\u001b[0mappend\u001b[0m\u001b[0;34m(\u001b[0m\u001b[0menc\u001b[0m\u001b[0;34m,\u001b[0m\u001b[0;34m[\u001b[0m\u001b[0;34m*\u001b[0m\u001b[0mrange\u001b[0m\u001b[0;34m(\u001b[0m\u001b[0;36m2\u001b[0m\u001b[0;34m**\u001b[0m\u001b[0mN\u001b[0m\u001b[0;34m)\u001b[0m\u001b[0;34m]\u001b[0m\u001b[0;34m)\u001b[0m\u001b[0;34m\u001b[0m\u001b[0;34m\u001b[0m\u001b[0m\n\u001b[0m\u001b[1;32m      4\u001b[0m \u001b[0mcircuit\u001b[0m\u001b[0;34m.\u001b[0m\u001b[0mh\u001b[0m\u001b[0;34m(\u001b[0m\u001b[0;34m[\u001b[0m\u001b[0;34m*\u001b[0m\u001b[0mrange\u001b[0m\u001b[0;34m(\u001b[0m\u001b[0;36m2\u001b[0m\u001b[0;34m**\u001b[0m\u001b[0mN\u001b[0m\u001b[0;34m)\u001b[0m\u001b[0;34m]\u001b[0m\u001b[0;34m)\u001b[0m\u001b[0;34m\u001b[0m\u001b[0;34m\u001b[0m\u001b[0m\n\u001b[1;32m      5\u001b[0m \u001b[0mcircuit\u001b[0m\u001b[0;34m.\u001b[0m\u001b[0mappend\u001b[0m\u001b[0;34m(\u001b[0m\u001b[0menc\u001b[0m\u001b[0;34m,\u001b[0m\u001b[0;34m[\u001b[0m\u001b[0;34m*\u001b[0m\u001b[0mrange\u001b[0m\u001b[0;34m(\u001b[0m\u001b[0;36m2\u001b[0m\u001b[0;34m**\u001b[0m\u001b[0mN\u001b[0m\u001b[0;34m)\u001b[0m\u001b[0;34m]\u001b[0m\u001b[0;34m)\u001b[0m\u001b[0;34m\u001b[0m\u001b[0;34m\u001b[0m\u001b[0m\n",
      "\u001b[0;32m/opt/anaconda3/lib/python3.7/site-packages/qiskit/circuit/quantumcircuit.py\u001b[0m in \u001b[0;36mappend\u001b[0;34m(self, instruction, qargs, cargs)\u001b[0m\n\u001b[1;32m   1010\u001b[0m \u001b[0;34m\u001b[0m\u001b[0m\n\u001b[1;32m   1011\u001b[0m         \u001b[0minstructions\u001b[0m \u001b[0;34m=\u001b[0m \u001b[0mInstructionSet\u001b[0m\u001b[0;34m(\u001b[0m\u001b[0;34m)\u001b[0m\u001b[0;34m\u001b[0m\u001b[0;34m\u001b[0m\u001b[0m\n\u001b[0;32m-> 1012\u001b[0;31m         \u001b[0;32mfor\u001b[0m \u001b[0;34m(\u001b[0m\u001b[0mqarg\u001b[0m\u001b[0;34m,\u001b[0m \u001b[0mcarg\u001b[0m\u001b[0;34m)\u001b[0m \u001b[0;32min\u001b[0m \u001b[0minstruction\u001b[0m\u001b[0;34m.\u001b[0m\u001b[0mbroadcast_arguments\u001b[0m\u001b[0;34m(\u001b[0m\u001b[0mexpanded_qargs\u001b[0m\u001b[0;34m,\u001b[0m \u001b[0mexpanded_cargs\u001b[0m\u001b[0;34m)\u001b[0m\u001b[0;34m:\u001b[0m\u001b[0;34m\u001b[0m\u001b[0;34m\u001b[0m\u001b[0m\n\u001b[0m\u001b[1;32m   1013\u001b[0m             \u001b[0minstructions\u001b[0m\u001b[0;34m.\u001b[0m\u001b[0madd\u001b[0m\u001b[0;34m(\u001b[0m\u001b[0mself\u001b[0m\u001b[0;34m.\u001b[0m\u001b[0m_append\u001b[0m\u001b[0;34m(\u001b[0m\u001b[0minstruction\u001b[0m\u001b[0;34m,\u001b[0m \u001b[0mqarg\u001b[0m\u001b[0;34m,\u001b[0m \u001b[0mcarg\u001b[0m\u001b[0;34m)\u001b[0m\u001b[0;34m,\u001b[0m \u001b[0mqarg\u001b[0m\u001b[0;34m,\u001b[0m \u001b[0mcarg\u001b[0m\u001b[0;34m)\u001b[0m\u001b[0;34m\u001b[0m\u001b[0;34m\u001b[0m\u001b[0m\n\u001b[1;32m   1014\u001b[0m         \u001b[0;32mreturn\u001b[0m \u001b[0minstructions\u001b[0m\u001b[0;34m\u001b[0m\u001b[0;34m\u001b[0m\u001b[0m\n",
      "\u001b[0;32m/opt/anaconda3/lib/python3.7/site-packages/qiskit/circuit/instruction.py\u001b[0m in \u001b[0;36mbroadcast_arguments\u001b[0;34m(self, qargs, cargs)\u001b[0m\n\u001b[1;32m    411\u001b[0m         \u001b[0;32mif\u001b[0m \u001b[0mlen\u001b[0m\u001b[0;34m(\u001b[0m\u001b[0mqargs\u001b[0m\u001b[0;34m)\u001b[0m \u001b[0;34m!=\u001b[0m \u001b[0mself\u001b[0m\u001b[0;34m.\u001b[0m\u001b[0mnum_qubits\u001b[0m\u001b[0;34m:\u001b[0m\u001b[0;34m\u001b[0m\u001b[0;34m\u001b[0m\u001b[0m\n\u001b[1;32m    412\u001b[0m             raise CircuitError(\n\u001b[0;32m--> 413\u001b[0;31m                 \u001b[0;34mf'The amount of qubit arguments {len(qargs)} does not match'\u001b[0m\u001b[0;34m\u001b[0m\u001b[0;34m\u001b[0m\u001b[0m\n\u001b[0m\u001b[1;32m    414\u001b[0m                 f' the instruction expectation ({self.num_qubits}).')\n\u001b[1;32m    415\u001b[0m \u001b[0;34m\u001b[0m\u001b[0m\n",
      "\u001b[0;31mCircuitError\u001b[0m: 'The amount of qubit arguments 8 does not match the instruction expectation (11).'"
     ]
    }
   ],
   "source": [
    "circuit=HammingCircuit(N,ancillas=2)\n",
    "enc=hamming_encode(N)\n",
    "circuit.append(enc,[*range(2**N)])\n",
    "circuit.h([*range(2**N)])\n",
    "circuit.append(enc,[*range(2**N)])\n",
    "circuit.draw()"
   ]
  },
  {
   "cell_type": "code",
   "execution_count": 12,
   "metadata": {},
   "outputs": [
    {
     "output_type": "execute_result",
     "data": {
      "text/plain": [
       "        ┌────────────┐┌───┐┌────────────┐\n",
       "p000_0: ┤0           ├┤ H ├┤0           ├\n",
       "        │            │├───┤│            │\n",
       "p001_0: ┤1           ├┤ H ├┤1           ├\n",
       "        │            │├───┤│            │\n",
       "p010_0: ┤2           ├┤ H ├┤2           ├\n",
       "        │            │├───┤│            │\n",
       "s011_0: ┤3           ├┤ H ├┤3           ├\n",
       "        │            │├───┤│            │\n",
       "p100_0: ┤4           ├┤ H ├┤4           ├\n",
       "        │            │├───┤│            │\n",
       "s101_0: ┤5  Hamming0 ├┤ H ├┤5           ├\n",
       "        │            │├───┤│            │\n",
       "s110_0: ┤6           ├┤ H ├┤6           ├\n",
       "        │            │├───┤│   Hamming0 │\n",
       "s111_0: ┤7           ├┤ H ├┤7           ├\n",
       "        │            │└───┘│            │\n",
       " anc_0: ┤8           ├─────┤            ├\n",
       "        │            │     │            │\n",
       " anc_1: ┤9           ├─────┤            ├\n",
       "        │            │     │            │\n",
       " anc_2: ┤10          ├─────┤            ├\n",
       "        └────────────┘     │            │\n",
       " anc_3: ───────────────────┤8           ├\n",
       "                           │            │\n",
       " anc_4: ───────────────────┤9           ├\n",
       "                           │            │\n",
       " anc_5: ───────────────────┤10          ├\n",
       "                           └────────────┘"
      ],
      "text/html": "<pre style=\"word-wrap: normal;white-space: pre;background: #fff0;line-height: 1.1;font-family: &quot;Courier New&quot;,Courier,monospace\">        ┌────────────┐┌───┐┌────────────┐\np000_0: ┤0           ├┤ H ├┤0           ├\n        │            │├───┤│            │\np001_0: ┤1           ├┤ H ├┤1           ├\n        │            │├───┤│            │\np010_0: ┤2           ├┤ H ├┤2           ├\n        │            │├───┤│            │\ns011_0: ┤3           ├┤ H ├┤3           ├\n        │            │├───┤│            │\np100_0: ┤4           ├┤ H ├┤4           ├\n        │            │├───┤│            │\ns101_0: ┤5  Hamming0 ├┤ H ├┤5           ├\n        │            │├───┤│            │\ns110_0: ┤6           ├┤ H ├┤6           ├\n        │            │├───┤│   Hamming0 │\ns111_0: ┤7           ├┤ H ├┤7           ├\n        │            │└───┘│            │\n anc_0: ┤8           ├─────┤            ├\n        │            │     │            │\n anc_1: ┤9           ├─────┤            ├\n        │            │     │            │\n anc_2: ┤10          ├─────┤            ├\n        └────────────┘     │            │\n anc_3: ───────────────────┤8           ├\n                           │            │\n anc_4: ───────────────────┤9           ├\n                           │            │\n anc_5: ───────────────────┤10          ├\n                           └────────────┘</pre>"
     },
     "metadata": {},
     "execution_count": 12
    }
   ],
   "source": [
    "circuit=HammingCircuit(N,ancillas=2)\n",
    "Ham_0=HammingGate0(N)\n",
    "#circuit.h([*range(2**N)])\n",
    "circuit.append(Ham_0,[*range(2**N+N)])\n",
    "circuit.h([*range(2**N)])\n",
    "circuit.append(Ham_0,[*range(2**N),*range(2**N+N,2**N+2*N)])\n",
    "circuit.draw()"
   ]
  },
  {
   "cell_type": "code",
   "execution_count": 10,
   "metadata": {},
   "outputs": [
    {
     "output_type": "error",
     "ename": "AttributeError",
     "evalue": "'Gate' object has no attribute 'draw'",
     "traceback": [
      "\u001b[0;31m---------------------------------------------------------------------------\u001b[0m",
      "\u001b[0;31mAttributeError\u001b[0m                            Traceback (most recent call last)",
      "\u001b[0;32m<ipython-input-10-f3ca3a40e4e7>\u001b[0m in \u001b[0;36m<module>\u001b[0;34m\u001b[0m\n\u001b[0;32m----> 1\u001b[0;31m \u001b[0mHammingCorrection\u001b[0m\u001b[0;34m(\u001b[0m\u001b[0;36m3\u001b[0m\u001b[0;34m)\u001b[0m\u001b[0;34m.\u001b[0m\u001b[0mdraw\u001b[0m\u001b[0;34m(\u001b[0m\u001b[0;34m)\u001b[0m\u001b[0;34m\u001b[0m\u001b[0;34m\u001b[0m\u001b[0m\n\u001b[0m",
      "\u001b[0;31mAttributeError\u001b[0m: 'Gate' object has no attribute 'draw'"
     ]
    }
   ],
   "source": [
    "HammingCorrection(3).()"
   ]
  },
  {
   "cell_type": "code",
   "execution_count": 8,
   "metadata": {},
   "outputs": [],
   "source": [
    "simulator = QasmSimulator()"
   ]
  },
  {
   "cell_type": "code",
   "execution_count": 9,
   "metadata": {},
   "outputs": [
    {
     "output_type": "execute_result",
     "data": {
      "text/plain": [
       "             ┌──────────────────────┐┌─┐                     \n",
       "p000_0: ─────┤0                     ├┤M├─────────────────────\n",
       "             │                      │└╥┘┌─┐                  \n",
       "p001_0: ─────┤1                     ├─╫─┤M├──────────────────\n",
       "        ┌───┐│                      │ ║ └╥┘┌─┐               \n",
       "p010_0: ┤ X ├┤2                     ├─╫──╫─┤M├───────────────\n",
       "        ├───┤│                      │ ║  ║ └╥┘┌─┐            \n",
       "s011_0: ┤ X ├┤3                     ├─╫──╫──╫─┤M├────────────\n",
       "        └───┘│                      │ ║  ║  ║ └╥┘┌─┐         \n",
       "p100_0: ─────┤4                     ├─╫──╫──╫──╫─┤M├─────────\n",
       "             │                      │ ║  ║  ║  ║ └╥┘┌─┐      \n",
       "s101_0: ─────┤5                     ├─╫──╫──╫──╫──╫─┤M├──────\n",
       "        ┌───┐│                      │ ║  ║  ║  ║  ║ └╥┘┌─┐   \n",
       "s110_0: ┤ X ├┤6                     ├─╫──╫──╫──╫──╫──╫─┤M├───\n",
       "        ├───┤│   Hamming Correction │ ║  ║  ║  ║  ║  ║ └╥┘┌─┐\n",
       "s111_0: ┤ X ├┤7                     ├─╫──╫──╫──╫──╫──╫──╫─┤M├\n",
       "        └───┘│                      │ ║  ║  ║  ║  ║  ║  ║ └╥┘\n",
       " anc_0: ─────┤8                     ├─╫──╫──╫──╫──╫──╫──╫──╫─\n",
       "             │                      │ ║  ║  ║  ║  ║  ║  ║  ║ \n",
       " anc_1: ─────┤9                     ├─╫──╫──╫──╫──╫──╫──╫──╫─\n",
       "             │                      │ ║  ║  ║  ║  ║  ║  ║  ║ \n",
       " anc_2: ─────┤10                    ├─╫──╫──╫──╫──╫──╫──╫──╫─\n",
       "             │                      │ ║  ║  ║  ║  ║  ║  ║  ║ \n",
       " anc_3: ─────┤11                    ├─╫──╫──╫──╫──╫──╫──╫──╫─\n",
       "             │                      │ ║  ║  ║  ║  ║  ║  ║  ║ \n",
       " anc_4: ─────┤12                    ├─╫──╫──╫──╫──╫──╫──╫──╫─\n",
       "             │                      │ ║  ║  ║  ║  ║  ║  ║  ║ \n",
       " anc_5: ─────┤13                    ├─╫──╫──╫──╫──╫──╫──╫──╫─\n",
       "             └──────────────────────┘ ║  ║  ║  ║  ║  ║  ║  ║ \n",
       " c0: 14/══════════════════════════════╩══╩══╩══╩══╩══╩══╩══╩═\n",
       "                                      0  1  2  3  4  5  6  7 "
      ],
      "text/html": "<pre style=\"word-wrap: normal;white-space: pre;background: #fff0;line-height: 1.1;font-family: &quot;Courier New&quot;,Courier,monospace\">             ┌──────────────────────┐┌─┐                     \np000_0: ─────┤0                     ├┤M├─────────────────────\n             │                      │└╥┘┌─┐                  \np001_0: ─────┤1                     ├─╫─┤M├──────────────────\n        ┌───┐│                      │ ║ └╥┘┌─┐               \np010_0: ┤ X ├┤2                     ├─╫──╫─┤M├───────────────\n        ├───┤│                      │ ║  ║ └╥┘┌─┐            \ns011_0: ┤ X ├┤3                     ├─╫──╫──╫─┤M├────────────\n        └───┘│                      │ ║  ║  ║ └╥┘┌─┐         \np100_0: ─────┤4                     ├─╫──╫──╫──╫─┤M├─────────\n             │                      │ ║  ║  ║  ║ └╥┘┌─┐      \ns101_0: ─────┤5                     ├─╫──╫──╫──╫──╫─┤M├──────\n        ┌───┐│                      │ ║  ║  ║  ║  ║ └╥┘┌─┐   \ns110_0: ┤ X ├┤6                     ├─╫──╫──╫──╫──╫──╫─┤M├───\n        ├───┤│   Hamming Correction │ ║  ║  ║  ║  ║  ║ └╥┘┌─┐\ns111_0: ┤ X ├┤7                     ├─╫──╫──╫──╫──╫──╫──╫─┤M├\n        └───┘│                      │ ║  ║  ║  ║  ║  ║  ║ └╥┘\n anc_0: ─────┤8                     ├─╫──╫──╫──╫──╫──╫──╫──╫─\n             │                      │ ║  ║  ║  ║  ║  ║  ║  ║ \n anc_1: ─────┤9                     ├─╫──╫──╫──╫──╫──╫──╫──╫─\n             │                      │ ║  ║  ║  ║  ║  ║  ║  ║ \n anc_2: ─────┤10                    ├─╫──╫──╫──╫──╫──╫──╫──╫─\n             │                      │ ║  ║  ║  ║  ║  ║  ║  ║ \n anc_3: ─────┤11                    ├─╫──╫──╫──╫──╫──╫──╫──╫─\n             │                      │ ║  ║  ║  ║  ║  ║  ║  ║ \n anc_4: ─────┤12                    ├─╫──╫──╫──╫──╫──╫──╫──╫─\n             │                      │ ║  ║  ║  ║  ║  ║  ║  ║ \n anc_5: ─────┤13                    ├─╫──╫──╫──╫──╫──╫──╫──╫─\n             └──────────────────────┘ ║  ║  ║  ║  ║  ║  ║  ║ \n c0: 14/══════════════════════════════╩══╩══╩══╩══╩══╩══╩══╩═\n                                      0  1  2  3  4  5  6  7 </pre>"
     },
     "metadata": {},
     "execution_count": 9
    }
   ],
   "source": [
    "N=3\n",
    "n_correct=HammingRedundant(13)\n",
    "circuit=HammingCircuit(N,True,2)\n",
    "flipped_bit=0#2**2\n",
    "n_wrong=n_correct^flipped_bit\n",
    "for i in range(2**N):\n",
    "        j=2**i\n",
    "        if (n_wrong&j)==j: circuit.x(i)\n",
    "asd=HammingCorrection(N)\n",
    "circuit.append(asd,[*range(2**N+2*N)])\n",
    "circuit.measure([*range(2**N)],[*range(2**N)])\n",
    "circuit.draw()"
   ]
  },
  {
   "cell_type": "code",
   "execution_count": 87,
   "metadata": {},
   "outputs": [
    {
     "output_type": "stream",
     "name": "stdout",
     "text": [
      "input 11001100\noutput {'00000010100101': 25, '00000000001110': 25, '00000011110001': 29, '00000001101000': 34, '00000000111101': 32, '00000011111110': 31, '00000011110000': 39, '00000011000010': 25, '00000010010111': 41, '00000010101010': 43, '00000000110010': 31, '00000000000001': 27, '00000011001101': 24, '00000000001111': 28, '00000001100110': 31, '00000010011001': 26, '00000010011000': 46, '00000010010110': 30, '00000000111100': 30, '00000011001100': 34, '00000011111111': 38, '00000001010101': 37, '00000001011010': 30, '00000001010100': 27, '00000011000011': 30, '00000010100100': 28, '00000001011011': 34, '00000001100111': 30, '00000000110011': 29, '00000010101011': 30, '00000000000000': 28, '00000001101001': 28}\ndovrebbe essere 11001100\n"
     ]
    }
   ],
   "source": [
    "compiled_circuit = transpile(circuit, simulator)\n",
    "job = simulator.run(compiled_circuit, shots=1000)\n",
    "result = job.result()\n",
    "counts = result.get_counts(circuit)\n",
    "print('input',num_to_binary(n_wrong,2**N))\n",
    "print('output',counts)\n",
    "print('dovrebbe essere',num_to_binary(n_correct,2**N))"
   ]
  },
  {
   "cell_type": "code",
   "execution_count": null,
   "metadata": {},
   "outputs": [],
   "source": []
  }
 ],
 "metadata": {
  "interpreter": {
   "hash": "dca0ade3e726a953b501b15e8e990130d2b7799f14cfd9f4271676035ebe5511"
  },
  "kernelspec": {
   "name": "python374jvsc74a57bd0dca0ade3e726a953b501b15e8e990130d2b7799f14cfd9f4271676035ebe5511",
   "display_name": "Python 3.7.4 64-bit ('base': conda)"
  },
  "language_info": {
   "codemirror_mode": {
    "name": "ipython",
    "version": 3
   },
   "file_extension": ".py",
   "mimetype": "text/x-python",
   "name": "python",
   "nbconvert_exporter": "python",
   "pygments_lexer": "ipython3",
   "version": "3.7.4"
  },
  "orig_nbformat": 2
 },
 "nbformat": 4,
 "nbformat_minor": 2
}