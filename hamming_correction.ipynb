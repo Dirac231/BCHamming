{
 "cells": [
  {
   "cell_type": "code",
   "execution_count": 109,
   "metadata": {},
   "outputs": [],
   "source": [
    "import numpy as np \n",
    "from qiskit import QuantumRegister, ClassicalRegister,QuantumCircuit, transpile\n",
    "from qiskit.providers.aer import QasmSimulator"
   ]
  },
  {
   "cell_type": "code",
   "execution_count": 181,
   "metadata": {},
   "outputs": [],
   "source": [
    "def num_to_binary(n,N):\n",
    "    # n is the number to be represented in binary\n",
    "    # N is the number of digits of the rapresentation\n",
    "    #es: num_to_binary(5,4) = 0101\n",
    "    Nbits=2**N\n",
    "    if n>=Nbits: return 0\n",
    "    return bin(n+2*Nbits)[4:]\n",
    "\n",
    "\n",
    "def HammingCircuit(N):\n",
    "    #Returns a circuit with just the qbits labeled as the parity and signal\n",
    "    registers=[]\n",
    "    for i in range(2**N):\n",
    "        prefix='s' #s stands for signal\n",
    "        if i==0 or np.log2(i)==int(np.log2(i)): prefix='p' #c stands for parity\n",
    "        registers.append(QuantumRegister(1,prefix+num_to_binary(i, N)))\n",
    "    #registers.append(ClassicalRegister(2**N+N))\n",
    "    circuit=QuantumCircuit(*registers,QuantumRegister(N,'anc')) #circuit already with ancillas\n",
    "    #circit=QuantumCircuit(*registers)\n",
    "    circuit.N=N\n",
    "    return circuit\n",
    "\n",
    "\n",
    "def xor(N):\n",
    "    circ=HammingCircuit(N)\n",
    "    nqubits=2**N\n",
    "    for i in range(1,nqubits):\n",
    "        for j in range(0,N):\n",
    "            if i & 2**j == 2**j: circ.cx(i,nqubits+j)\n",
    "    return circ.to_gate(label='Initialize')\n",
    "\n",
    "def correct(N):\n",
    "    circ=HammingCircuit(N)\n",
    "    nqubits=2**N\n",
    "    count=np.zeros(N)\n",
    "    for i in range(1,nqubits):\n",
    "        count=count+1\n",
    "        for j in range(N):\n",
    "            count[j]=count[j]%(2**j)\n",
    "            if count[j]==0 and i!=1: circ.x(nqubits+j)\n",
    "            if i==1 and j!=0: circ.x(nqubits+j)\n",
    "        circ.mct([*range(nqubits,nqubits+N)],i)\n",
    "    return circ.to_gate(label='Correction')\n",
    "\n",
    "def HammingGate0(N):\n",
    "    circ=HammingCircuit(N)\n",
    "    circ.append(xor(N),[*range(2**N+N)])\n",
    "    circ.append(correct(N),[*range(2**N+N)])\n",
    "    return circ.to_gate(label='Hamming0')"
   ]
  },
  {
   "cell_type": "markdown",
   "metadata": {},
   "source": [
    "Initializing Ancillas"
   ]
  },
  {
   "cell_type": "code",
   "execution_count": 182,
   "metadata": {},
   "outputs": [
    {
     "name": "stdout",
     "output_type": "stream",
     "text": [
      "<class 'qiskit.circuit.gate.Gate'>\n"
     ]
    },
    {
     "data": {
      "text/html": "<pre style=\"word-wrap: normal;white-space: pre;background: #fff0;line-height: 1.1;font-family: &quot;Courier New&quot;,Courier,monospace\">      ┌────────────┐\n q_0: ┤0           ├\n      │            │\n q_1: ┤1           ├\n      │            │\n q_2: ┤2           ├\n      │            │\n q_3: ┤3           ├\n      │            │\n q_4: ┤4           ├\n      │            │\n q_5: ┤5  Hamming0 ├\n      │            │\n q_6: ┤6           ├\n      │            │\n q_7: ┤7           ├\n      │            │\n q_8: ┤8           ├\n      │            │\n q_9: ┤9           ├\n      │            │\nq_10: ┤10          ├\n      └────────────┘\nq_11: ──────────────\n                    \nq_12: ──────────────\n                    \nq_13: ──────────────\n                    </pre>",
      "text/plain": "      ┌────────────┐\n q_0: ┤0           ├\n      │            │\n q_1: ┤1           ├\n      │            │\n q_2: ┤2           ├\n      │            │\n q_3: ┤3           ├\n      │            │\n q_4: ┤4           ├\n      │            │\n q_5: ┤5  Hamming0 ├\n      │            │\n q_6: ┤6           ├\n      │            │\n q_7: ┤7           ├\n      │            │\n q_8: ┤8           ├\n      │            │\n q_9: ┤9           ├\n      │            │\nq_10: ┤10          ├\n      └────────────┘\nq_11: ──────────────\n                    \nq_12: ──────────────\n                    \nq_13: ──────────────\n                    "
     },
     "execution_count": 182,
     "metadata": {},
     "output_type": "execute_result"
    }
   ],
   "source": [
    "N=3\n",
    "circ=QuantumCircuit(2**N+2*N)\n",
    "asd=HammingGate0(N)\n",
    "print(type(asd))\n",
    "circ.append(asd,[*range(2**N+N)])\n",
    "circ.draw()"
   ]
  },
  {
   "cell_type": "code",
   "execution_count": 148,
   "metadata": {},
   "outputs": [
    {
     "name": "stdout",
     "output_type": "stream",
     "text": [
      "3\n"
     ]
    }
   ],
   "source": [
    "print(3)"
   ]
  }
 ],
 "metadata": {
  "interpreter": {
   "hash": "dca0ade3e726a953b501b15e8e990130d2b7799f14cfd9f4271676035ebe5511"
  },
  "kernelspec": {
   "display_name": "Python 3.7.4 64-bit ('base': conda)",
   "name": "python3"
  },
  "language_info": {
   "codemirror_mode": {
    "name": "ipython",
    "version": 3
   },
   "file_extension": ".py",
   "mimetype": "text/x-python",
   "name": "python",
   "nbconvert_exporter": "python",
   "pygments_lexer": "ipython3",
   "version": "3.7.4"
  },
  "orig_nbformat": 2
 },
 "nbformat": 4,
 "nbformat_minor": 2
}