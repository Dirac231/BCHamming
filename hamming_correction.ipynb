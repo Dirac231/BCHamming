{
 "cells": [
  {
   "cell_type": "code",
   "execution_count": 2,
   "metadata": {},
   "outputs": [],
   "source": [
    "import numpy as np \n",
    "from qiskit import QuantumRegister, ClassicalRegister,QuantumCircuit, transpile, Aer\n",
    "from qiskit.providers.aer import QasmSimulator\n",
    "%matplotlib inline"
   ]
  },
  {
   "cell_type": "code",
   "execution_count": 102,
   "metadata": {},
   "outputs": [],
   "source": [
    "def num_to_binary(n,N):\n",
    "    # n is the number to be represented in binary\n",
    "    # N is the number of digits of the rapresentation\n",
    "    #es: num_to_binary(5,4) = 0101\n",
    "    Nbits=2**N\n",
    "    if n>=Nbits: return 0\n",
    "    return bin(n+2*Nbits)[4:]\n",
    "\n",
    "\n",
    "def HammingCircuit(N,ClassicalRegisters=None,ancillas=1):\n",
    "    \"\"\"\n",
    "    -Returns a circuit with just the qbits labeled as the parity and signal\n",
    "    -it gives you a circuit with 2^N qbits of (message + redundancy)\n",
    "    -it can have classical registers if you want set ClassicalRegisters=True, if given a int \"n\" it will have \n",
    "    n classical registers\n",
    "    by default it will have N ancillas, if specified it will have a numer N*ancillas\"\"\"\n",
    "    registers=[]\n",
    "    for i in range(2**N):\n",
    "        prefix='s' #s stands for signal\n",
    "        if i==0 or np.log2(i)==int(np.log2(i)): prefix='p' #c stands for parity\n",
    "        registers.append(QuantumRegister(1,prefix+num_to_binary(i, N)))\n",
    "    if ClassicalRegisters!=None: \n",
    "        if ClassicalRegisters==True: registers.append(ClassicalRegister(2**N+N*ancillas))\n",
    "        else: registers.append(ClassicalRegister(ClassicalRegisters))\n",
    "    circuit=QuantumCircuit(*registers,QuantumRegister(N*ancillas,'anc')) #circuit already with ancillas\n",
    "    #circit=QuantumCircuit(*registers)\n",
    "    circuit.N=N\n",
    "    return circuit\n",
    "\n",
    "\n",
    "def xor(N):\n",
    "    #This is the gate that calculates the xor of all the position with ones, this gives the position of the faulty qbit\n",
    "    circ=HammingCircuit(N)\n",
    "    nqubits=2**N\n",
    "    for i in range(1,nqubits):\n",
    "        for j in range(0,N):\n",
    "            if i & 2**j == 2**j: circ.cx(i,nqubits+j)\n",
    "    return circ.to_gate(label='Initialize')\n",
    "\n",
    "def correct(N):\n",
    "    #This is the gate that corrects the faulty qbit\n",
    "    circ=HammingCircuit(N)\n",
    "    nqubits=2**N\n",
    "    count=np.zeros(N)\n",
    "    for i in range(1,nqubits):\n",
    "        count=count+1\n",
    "        for j in range(N):\n",
    "            count[j]=count[j]%(2**j)\n",
    "            if count[j]==0 and i!=1: circ.x(nqubits+j)\n",
    "            if i==1 and j!=0: circ.x(nqubits+j)\n",
    "        circ.mct([*range(nqubits,nqubits+N)],i)\n",
    "    return circ.to_gate(label='Correction')\n",
    "\n",
    "def HammingGate0(N):\n",
    "    #Hamming Gate resistant to bit-fips\n",
    "    circ=HammingCircuit(N)\n",
    "    circ.append(xor(N),[*range(2**N+N)])\n",
    "    circ.append(correct(N),[*range(2**N+N)])\n",
    "    return circ.to_gate(label='Hamming0')\n",
    "\n",
    "def HammingRedundant(n):\n",
    "    #Takes a integer \"n\" and makes the binary representation of that integer hamming redundant\n",
    "    bits=int(np.log2(n))+1\n",
    "    parity=int(np.log2(bits))+2\n",
    "    total=2**(parity-1)\n",
    "    N,j=0,0\n",
    "    #shift the digits in the correct positions for the hamming code\n",
    "    for i in range(total):\n",
    "        if i!=0 and int(np.log2(i))!=np.log2(i):\n",
    "            N=N+(n&(2**j)==2**j)*(2**i)\n",
    "            j=j+1\n",
    "    #puts the parity bit in place except for the global parity bit\n",
    "    for i in range(parity):\n",
    "        i=2**i\n",
    "        for j in range(i,total):\n",
    "            N=N^((2**i)*((j&i==i)&((N&2**j)!=0)))\n",
    "    #Global parity bit (yet to be tested)\n",
    "    #for i in range(1,total):N=N^((N&2**i)==1)\n",
    "    return N\n",
    "\n",
    "def classic_input(n,N=None):\n",
    "    #n is the number in integer format, N is the size of the gate\n",
    "    #doesn't work and i \n",
    "    if N==None: N=int(np.log2(n))+1\n",
    "    if (n>=2**N): raise 'ma sei trimò'\n",
    "    registers=QuantumRegister(N)\n",
    "    circuit=QuantumCircuit(registers)\n",
    "    for i in range(N):\n",
    "        j=2**i\n",
    "        if (n&j)==j: circuit.x(i)\n",
    "    return circuit.to_gate(num_to_binary(n,N))"
   ]
  },
  {
   "cell_type": "code",
   "execution_count": 4,
   "metadata": {},
   "outputs": [],
   "source": [
    "simulator = QasmSimulator()"
   ]
  },
  {
   "cell_type": "code",
   "execution_count": 109,
   "metadata": {},
   "outputs": [
    {
     "output_type": "execute_result",
     "data": {
      "text/plain": [
       "             ┌────────────┐┌─┐                              \n",
       "p000_0: ─────┤0           ├┤M├──────────────────────────────\n",
       "        ┌───┐│            │└╥┘┌─┐                           \n",
       "p001_0: ┤ X ├┤1           ├─╫─┤M├───────────────────────────\n",
       "        └───┘│            │ ║ └╥┘┌─┐                        \n",
       "p010_0: ─────┤2           ├─╫──╫─┤M├────────────────────────\n",
       "        ┌───┐│            │ ║  ║ └╥┘┌─┐                     \n",
       "s011_0: ┤ X ├┤3           ├─╫──╫──╫─┤M├─────────────────────\n",
       "        └───┘│            │ ║  ║  ║ └╥┘┌─┐                  \n",
       "p100_0: ─────┤4           ├─╫──╫──╫──╫─┤M├──────────────────\n",
       "             │            │ ║  ║  ║  ║ └╥┘┌─┐               \n",
       "s101_0: ─────┤5  Hamming0 ├─╫──╫──╫──╫──╫─┤M├───────────────\n",
       "             │            │ ║  ║  ║  ║  ║ └╥┘┌─┐            \n",
       "s110_0: ─────┤6           ├─╫──╫──╫──╫──╫──╫─┤M├────────────\n",
       "             │            │ ║  ║  ║  ║  ║  ║ └╥┘┌─┐         \n",
       "s111_0: ─────┤7           ├─╫──╫──╫──╫──╫──╫──╫─┤M├─────────\n",
       "             │            │ ║  ║  ║  ║  ║  ║  ║ └╥┘┌─┐      \n",
       " anc_0: ─────┤8           ├─╫──╫──╫──╫──╫──╫──╫──╫─┤M├──────\n",
       "             │            │ ║  ║  ║  ║  ║  ║  ║  ║ └╥┘┌─┐   \n",
       " anc_1: ─────┤9           ├─╫──╫──╫──╫──╫──╫──╫──╫──╫─┤M├───\n",
       "             │            │ ║  ║  ║  ║  ║  ║  ║  ║  ║ └╥┘┌─┐\n",
       " anc_2: ─────┤10          ├─╫──╫──╫──╫──╫──╫──╫──╫──╫──╫─┤M├\n",
       "             └────────────┘ ║  ║  ║  ║  ║  ║  ║  ║  ║  ║ └╥┘\n",
       "c20: 11/════════════════════╩══╩══╩══╩══╩══╩══╩══╩══╩══╩══╩═\n",
       "                            0  1  2  3  4  5  6  7  8  9  10"
      ],
      "text/html": "<pre style=\"word-wrap: normal;white-space: pre;background: #fff0;line-height: 1.1;font-family: &quot;Courier New&quot;,Courier,monospace\">             ┌────────────┐┌─┐                              \np000_0: ─────┤0           ├┤M├──────────────────────────────\n        ┌───┐│            │└╥┘┌─┐                           \np001_0: ┤ X ├┤1           ├─╫─┤M├───────────────────────────\n        └───┘│            │ ║ └╥┘┌─┐                        \np010_0: ─────┤2           ├─╫──╫─┤M├────────────────────────\n        ┌───┐│            │ ║  ║ └╥┘┌─┐                     \ns011_0: ┤ X ├┤3           ├─╫──╫──╫─┤M├─────────────────────\n        └───┘│            │ ║  ║  ║ └╥┘┌─┐                  \np100_0: ─────┤4           ├─╫──╫──╫──╫─┤M├──────────────────\n             │            │ ║  ║  ║  ║ └╥┘┌─┐               \ns101_0: ─────┤5  Hamming0 ├─╫──╫──╫──╫──╫─┤M├───────────────\n             │            │ ║  ║  ║  ║  ║ └╥┘┌─┐            \ns110_0: ─────┤6           ├─╫──╫──╫──╫──╫──╫─┤M├────────────\n             │            │ ║  ║  ║  ║  ║  ║ └╥┘┌─┐         \ns111_0: ─────┤7           ├─╫──╫──╫──╫──╫──╫──╫─┤M├─────────\n             │            │ ║  ║  ║  ║  ║  ║  ║ └╥┘┌─┐      \n anc_0: ─────┤8           ├─╫──╫──╫──╫──╫──╫──╫──╫─┤M├──────\n             │            │ ║  ║  ║  ║  ║  ║  ║  ║ └╥┘┌─┐   \n anc_1: ─────┤9           ├─╫──╫──╫──╫──╫──╫──╫──╫──╫─┤M├───\n             │            │ ║  ║  ║  ║  ║  ║  ║  ║  ║ └╥┘┌─┐\n anc_2: ─────┤10          ├─╫──╫──╫──╫──╫──╫──╫──╫──╫──╫─┤M├\n             └────────────┘ ║  ║  ║  ║  ║  ║  ║  ║  ║  ║ └╥┘\nc20: 11/════════════════════╩══╩══╩══╩══╩══╩══╩══╩══╩══╩══╩═\n                            0  1  2  3  4  5  6  7  8  9  10</pre>"
     },
     "metadata": {},
     "execution_count": 109
    }
   ],
   "source": [
    "N=3\n",
    "circuit=HammingCircuit(N,True)\n",
    "flipped_bit=2**2\n",
    "n=HammingRedundant(3)^flipped_bit\n",
    "for i in range(2**N):\n",
    "        j=2**i\n",
    "        if (n&j)==j: circuit.x(i)\n",
    "asd=HammingGate0(N)\n",
    "circuit.append(asd,[*range(2**N+N)])\n",
    "circuit.measure([*range(2**N+N)],[*range(2**N+N)])\n",
    "circuit.draw()"
   ]
  },
  {
   "cell_type": "code",
   "execution_count": 110,
   "metadata": {},
   "outputs": [
    {
     "output_type": "stream",
     "name": "stdout",
     "text": [
      "input 00001010\noutput {'01000001110': 1000}\ndovrebbe essere 00001110\n"
     ]
    }
   ],
   "source": [
    "compiled_circuit = transpile(circuit, simulator)\n",
    "job = simulator.run(compiled_circuit, shots=1000)\n",
    "result = job.result()\n",
    "counts = result.get_counts(circuit)\n",
    "print('input',num_to_binary(n,2**N))\n",
    "print('output',counts)\n",
    "print('dovrebbe essere',num_to_binary(n^flipped_bit,2**N))"
   ]
  },
  {
   "cell_type": "code",
   "execution_count": null,
   "metadata": {},
   "outputs": [],
   "source": []
  }
 ],
 "metadata": {
  "interpreter": {
   "hash": "dca0ade3e726a953b501b15e8e990130d2b7799f14cfd9f4271676035ebe5511"
  },
  "kernelspec": {
   "name": "python374jvsc74a57bd0dca0ade3e726a953b501b15e8e990130d2b7799f14cfd9f4271676035ebe5511",
   "display_name": "Python 3.7.4 64-bit ('base': conda)"
  },
  "language_info": {
   "codemirror_mode": {
    "name": "ipython",
    "version": 3
   },
   "file_extension": ".py",
   "mimetype": "text/x-python",
   "name": "python",
   "nbconvert_exporter": "python",
   "pygments_lexer": "ipython3",
   "version": "3.7.4"
  },
  "orig_nbformat": 2
 },
 "nbformat": 4,
 "nbformat_minor": 2
}