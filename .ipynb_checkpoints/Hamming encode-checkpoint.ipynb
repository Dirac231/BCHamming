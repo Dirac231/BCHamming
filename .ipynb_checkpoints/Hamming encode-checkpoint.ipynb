{
 "cells": [
  {
   "cell_type": "code",
   "execution_count": 27,
   "id": "12880fa0-491f-4020-a02b-434cd00547d2",
   "metadata": {},
   "outputs": [],
   "source": [
    "import numpy as np \n",
    "\n",
    "import math\n",
    "from warnings import warn\n",
    "\n",
    "from qiskit import QuantumRegister, ClassicalRegister, QuantumCircuit, transpile\n",
    "from qiskit.providers.aer import QasmSimulator\n",
    "from qiskit.visualization import plot_histogram"
   ]
  },
  {
   "cell_type": "code",
   "execution_count": 131,
   "id": "d40885f4-e659-42ab-9891-1af5c9b03e84",
   "metadata": {},
   "outputs": [
    {
     "data": {
      "text/html": [
       "<pre style=\"word-wrap: normal;white-space: pre;background: #fff0;line-height: 1.1;font-family: &quot;Courier New&quot;,Courier,monospace\">      ┌─────────────────┐\n",
       " q_0: ┤0                ├\n",
       "      │                 │\n",
       " q_1: ┤1                ├\n",
       "      │                 │\n",
       " q_2: ┤2                ├\n",
       "      │                 │\n",
       " q_3: ┤3                ├\n",
       "      │  Hamming Encode │\n",
       " q_4: ┤4                ├\n",
       "      │                 │\n",
       " q_5: ┤5                ├\n",
       "      │                 │\n",
       " q_6: ┤6                ├\n",
       "      │                 │\n",
       " q_7: ┤7                ├\n",
       "      └─────────────────┘\n",
       " q_8: ───────────────────\n",
       "                         \n",
       " q_9: ───────────────────\n",
       "                         \n",
       "q_10: ───────────────────\n",
       "                         \n",
       "q_11: ───────────────────\n",
       "                         \n",
       "q_12: ───────────────────\n",
       "                         \n",
       "q_13: ───────────────────\n",
       "                         \n",
       "q_14: ───────────────────\n",
       "                         \n",
       "q_15: ───────────────────\n",
       "                         </pre>"
      ],
      "text/plain": [
       "      ┌─────────────────┐\n",
       " q_0: ┤0                ├\n",
       "      │                 │\n",
       " q_1: ┤1                ├\n",
       "      │                 │\n",
       " q_2: ┤2                ├\n",
       "      │                 │\n",
       " q_3: ┤3                ├\n",
       "      │  Hamming Encode │\n",
       " q_4: ┤4                ├\n",
       "      │                 │\n",
       " q_5: ┤5                ├\n",
       "      │                 │\n",
       " q_6: ┤6                ├\n",
       "      │                 │\n",
       " q_7: ┤7                ├\n",
       "      └─────────────────┘\n",
       " q_8: ───────────────────\n",
       "                         \n",
       " q_9: ───────────────────\n",
       "                         \n",
       "q_10: ───────────────────\n",
       "                         \n",
       "q_11: ───────────────────\n",
       "                         \n",
       "q_12: ───────────────────\n",
       "                         \n",
       "q_13: ───────────────────\n",
       "                         \n",
       "q_14: ───────────────────\n",
       "                         \n",
       "q_15: ───────────────────\n",
       "                         "
      ]
     },
     "execution_count": 131,
     "metadata": {},
     "output_type": "execute_result"
    }
   ],
   "source": [
    "def num_to_binary(n,N):\n",
    "    # n is the number to be represented in binary\n",
    "    # N is the number of digits of the rapresentation\n",
    "    # es: num_to_binary(5,4) = 0101\n",
    "    Nbits=2**N\n",
    "    if n>=Nbits: return 0\n",
    "    return bin(n+2*Nbits)[4:]\n",
    "\n",
    "def is_power_2(n, eps=1e-10):\n",
    "    return n & (n-1) == 0\n",
    "\n",
    "# Actually this isn't used anymore\n",
    "def bitwise_and(s1, s2):\n",
    "    return [i == j for i, j in zip(s1, s2)]\n",
    "    \n",
    "def input_bits(i, N):\n",
    "    res = []\n",
    "    n1 = num_to_binary(2**(i-1), N)\n",
    "    \n",
    "    for j in range(2**N):\n",
    "        n2 = num_to_binary(j, N)\n",
    "        if n1[-i] == n2[-i]:\n",
    "            res.append(j)\n",
    "    \n",
    "    return res[1:], res[0]\n",
    "\n",
    "def construct_circuit(N, name=\"Hamming Encode\"):\n",
    "    registers = []\n",
    "    for i in range(2**N):\n",
    "        prefix = \"p\" if is_power_2(i) else \"s\"\n",
    "        registers.append(QuantumRegister(1, prefix+num_to_binary(i, N)))\n",
    "    \n",
    "    return QuantumCircuit(*registers, name=name)\n",
    "\n",
    "def hamming_encode(N):\n",
    "    qc = construct_circuit(N)\n",
    "    \n",
    "    [qc.cx(*input_bits(i, N)) for i in range(1, N+1)]\n",
    "    \n",
    "    return qc.to_instruction()\n",
    "    \n",
    "\n",
    "prova = QuantumCircuit(16)\n",
    "prova.append(hamming_encode(3), list(range(0,8)))\n",
    "prova.draw()"
   ]
  },
  {
   "cell_type": "code",
   "execution_count": 32,
   "id": "30efb7bd-79f5-413a-8120-f715f81cdef9",
   "metadata": {},
   "outputs": [
    {
     "data": {
      "text/plain": [
       "[1, 0, 1, 0]"
      ]
     },
     "execution_count": 32,
     "metadata": {},
     "output_type": "execute_result"
    }
   ],
   "source": [
    "def haar(n, w):\n",
    "    \"\"\"\n",
    "    Returns a haar function with frequency 2**w over n points\n",
    "    \"\"\"\n",
    "    points = list(range(n))\n",
    "    w = math.log2(n) + 1 - w\n",
    "    return [int(point % 2**w < 2**(w-1)) for point in points]\n",
    "\n",
    "haar(4, 2)"
   ]
  },
  {
   "cell_type": "code",
   "execution_count": 18,
   "id": "26686042-9c62-4f65-9a08-ed442470afa2",
   "metadata": {},
   "outputs": [
    {
     "name": "stdout",
     "output_type": "stream",
     "text": [
      "     ┌────┐\n",
      "q_0: ┤0   ├\n",
      "     │  X │\n",
      "q_1: ┤1   ├\n",
      "     └────┘\n"
     ]
    }
   ],
   "source": [
    "# customize a gate instruction (e.g., X gate)\n",
    "qc = QuantumCircuit(2, name=\"X\")\n",
    "qc.cx(0, 1)\n",
    "custom_gate = qc.to_instruction()\n",
    "\n",
    "# append custom gate to a new circuit\n",
    "new_circ = QuantumCircuit(2)\n",
    "new_circ.append(custom_gate, [0, 1])\n",
    "print(new_circ)"
   ]
  }
 ],
 "metadata": {
  "kernelspec": {
   "display_name": "Python 3",
   "language": "python",
   "name": "python3"
  },
  "language_info": {
   "codemirror_mode": {
    "name": "ipython",
    "version": 3
   },
   "file_extension": ".py",
   "mimetype": "text/x-python",
   "name": "python",
   "nbconvert_exporter": "python",
   "pygments_lexer": "ipython3",
   "version": "3.8.8"
  }
 },
 "nbformat": 4,
 "nbformat_minor": 5
}
